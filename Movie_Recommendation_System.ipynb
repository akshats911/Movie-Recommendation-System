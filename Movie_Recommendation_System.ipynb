{
  "nbformat": 4,
  "nbformat_minor": 0,
  "metadata": {
    "colab": {
      "provenance": [],
      "authorship_tag": "ABX9TyNyFchxWUhC5lUibHVeIqZI",
      "include_colab_link": true
    },
    "kernelspec": {
      "name": "python3",
      "display_name": "Python 3"
    },
    "language_info": {
      "name": "python"
    }
  },
  "cells": [
    {
      "cell_type": "markdown",
      "metadata": {
        "id": "view-in-github",
        "colab_type": "text"
      },
      "source": [
        "<a href=\"https://colab.research.google.com/github/akshats911/Movie-Recommendation-System/blob/main/Movie_Recommendation_System.ipynb\" target=\"_parent\"><img src=\"https://colab.research.google.com/assets/colab-badge.svg\" alt=\"Open In Colab\"/></a>"
      ]
    },
    {
      "cell_type": "code",
      "execution_count": null,
      "metadata": {
        "id": "C108BE5VW16c"
      },
      "outputs": [],
      "source": [
        "import pandas as pd\n",
        "import numpy as np"
      ]
    },
    {
      "cell_type": "code",
      "source": [
        "#https://www.kaggle.com/tmdb/tmdb-movie-metadata\n",
        "credits = pd.read_csv(\"tmdb_5000_credits.csv\")\n",
        "movies_df = pd.read_csv(\"tmdb_5000_movies.csv\")"
      ],
      "metadata": {
        "id": "gAhSpgYsgZzp"
      },
      "execution_count": null,
      "outputs": []
    },
    {
      "cell_type": "code",
      "source": [
        "credits.head()"
      ],
      "metadata": {
        "id": "V8mz2bGPgbW-"
      },
      "execution_count": null,
      "outputs": []
    },
    {
      "cell_type": "code",
      "source": [
        "movies_df.head()"
      ],
      "metadata": {
        "id": "4w6HPYR8hEYL"
      },
      "execution_count": null,
      "outputs": []
    },
    {
      "cell_type": "code",
      "source": [
        "print(\"Credits:\",credits.shape)\n",
        "print(\"Movies Dataframe:\",movies_df.shape)"
      ],
      "metadata": {
        "id": "AloqiLiShFfh"
      },
      "execution_count": null,
      "outputs": []
    },
    {
      "cell_type": "code",
      "source": [
        "credits_column_renamed = credits.rename(index=str, columns={\"movie_id\": \"id\"})\n",
        "movies_df_merge = movies_df.merge(credits_column_renamed, on='id')\n",
        "movies_df_merge.head()"
      ],
      "metadata": {
        "id": "nm7y2qfuhIHU"
      },
      "execution_count": null,
      "outputs": []
    },
    {
      "cell_type": "code",
      "source": [
        "movies_cleaned_df = movies_df_merge.drop(columns=['homepage', 'title_x', 'title_y', 'status','production_countries'])\n",
        "movies_cleaned_df.head()"
      ],
      "metadata": {
        "id": "482AiaA-hMy1"
      },
      "execution_count": null,
      "outputs": []
    },
    {
      "cell_type": "code",
      "source": [
        "movies_cleaned_df.info()"
      ],
      "metadata": {
        "id": "kjudzbG6hOha"
      },
      "execution_count": null,
      "outputs": []
    },
    {
      "cell_type": "markdown",
      "source": [
        "using reviews for a content based system"
      ],
      "metadata": {
        "id": "vTfgrg0JhizE"
      }
    },
    {
      "cell_type": "code",
      "source": [
        "movies_cleaned_df.head(1)['overview']"
      ],
      "metadata": {
        "id": "yqPpnJOnhQmE"
      },
      "execution_count": null,
      "outputs": []
    },
    {
      "cell_type": "code",
      "source": [
        "from sklearn.feature_extraction.text import TfidfVectorizer\n",
        "\n",
        "\n",
        "tfv = TfidfVectorizer(min_df=3,  max_features=None, \n",
        "            strip_accents='unicode', analyzer='word',token_pattern=r'\\w{1,}',\n",
        "            ngram_range=(1, 3),\n",
        "            stop_words = 'english')\n",
        "\n",
        "# Filling NaNs with empty string\n",
        "movies_cleaned_df['overview'] = movies_cleaned_df['overview'].fillna('')"
      ],
      "metadata": {
        "id": "iEJB9QhjhnY7"
      },
      "execution_count": null,
      "outputs": []
    },
    {
      "cell_type": "code",
      "source": [
        "tfv_matrix = tfv.fit_transform(movies_cleaned_df['overview'])\n",
        "tfv_matrix"
      ],
      "metadata": {
        "id": "dGB9i2F7hqI1"
      },
      "execution_count": null,
      "outputs": []
    },
    {
      "cell_type": "code",
      "source": [
        "tfv_matrix.shape"
      ],
      "metadata": {
        "id": "2jtSC1V-hzIg"
      },
      "execution_count": null,
      "outputs": []
    },
    {
      "cell_type": "code",
      "source": [
        "from sklearn.metrics.pairwise import sigmoid_kernel\n",
        "\n",
        "# Computing the sigmoid kernel\n",
        "sig = sigmoid_kernel(tfv_matrix, tfv_matrix)\n",
        "sig[0]"
      ],
      "metadata": {
        "id": "0C-u73DIhxH5"
      },
      "execution_count": null,
      "outputs": []
    },
    {
      "cell_type": "code",
      "source": [
        "indices = pd.Series(movies_cleaned_df.index, index=movies_cleaned_df['original_title']).drop_duplicates()\n",
        "indices"
      ],
      "metadata": {
        "id": "bx8ZI3fYh3Ak"
      },
      "execution_count": null,
      "outputs": []
    },
    {
      "cell_type": "code",
      "source": [
        "sig[1234]"
      ],
      "metadata": {
        "id": "wRuGfaAbiAXW"
      },
      "execution_count": null,
      "outputs": []
    },
    {
      "cell_type": "code",
      "source": [
        "list(enumerate(sig[indices['Spectre']]))"
      ],
      "metadata": {
        "id": "dQJhz8ipiQZr"
      },
      "execution_count": null,
      "outputs": []
    },
    {
      "cell_type": "code",
      "source": [
        "sorted(list(enumerate(sig[indices['Spectre']])), key=lambda x: x[1], reverse=True)"
      ],
      "metadata": {
        "id": "sCGyzmn3iT_z"
      },
      "execution_count": null,
      "outputs": []
    },
    {
      "cell_type": "code",
      "source": [
        "def give_rec(title, sig=sig):\n",
        "    idx = indices[title]\n",
        "    sig_scores = list(enumerate(sig[idx]))\n",
        "    sig_scores = sorted(sig_scores, key=lambda x: x[1], reverse=True)\n",
        "    sig_scores = sig_scores[1:11]\n",
        "    movie_indices = [i[0] for i in sig_scores]\n",
        "\n",
        "    return movies_cleaned_df['original_title'].iloc[movie_indices]"
      ],
      "metadata": {
        "id": "zLQlwWsRiY1z"
      },
      "execution_count": null,
      "outputs": []
    },
    {
      "cell_type": "code",
      "source": [
        "give_rec('Avatar')"
      ],
      "metadata": {
        "id": "Kk3TeIxKih9P"
      },
      "execution_count": null,
      "outputs": []
    }
  ]
}